{
  "cells": [
    {
      "cell_type": "markdown",
      "metadata": {
        "id": "view-in-github",
        "colab_type": "text"
      },
      "source": [
        "<a href=\"https://colab.research.google.com/github/renewiz/gworkspace/blob/main/BigQuery_with_LangChain_Vertex_AI_PaLM_API_v2.ipynb\" target=\"_parent\"><img src=\"https://colab.research.google.com/assets/colab-badge.svg\" alt=\"Open In Colab\"/></a>"
      ]
    },
    {
      "cell_type": "markdown",
      "id": "359697d5",
      "metadata": {
        "id": "359697d5"
      },
      "source": [
        "# Getting Started with LangChain 🦜️🔗 + Vertex AI PaLM API on BigQuery\n"
      ]
    },
    {
      "cell_type": "markdown",
      "source": [
        "YouTube Video: https://youtu.be/jLyXkBeNRAo"
      ],
      "metadata": {
        "id": "JwwUIeAnEJDB"
      },
      "id": "JwwUIeAnEJDB"
    },
    {
      "cell_type": "markdown",
      "id": "641ad69c-52a6-4dd3-a9ad-a76540b45bb3",
      "metadata": {
        "id": "641ad69c-52a6-4dd3-a9ad-a76540b45bb3"
      },
      "source": [
        "# Install Vertex AI LLM SDK"
      ]
    },
    {
      "cell_type": "code",
      "execution_count": 1,
      "id": "ohPUPez8imvE",
      "metadata": {
        "id": "ohPUPez8imvE",
        "colab": {
          "base_uri": "https://localhost:8080/"
        },
        "outputId": "e7eba8df-764e-4a7d-c436-d8d091f92b31"
      },
      "outputs": [
        {
          "output_type": "stream",
          "name": "stdout",
          "text": [
            "\u001b[2K     \u001b[90m━━━━━━━━━━━━━━━━━━━━━━━━━━━━━━━━━━━━━━━━\u001b[0m \u001b[32m2.6/2.6 MB\u001b[0m \u001b[31m19.6 MB/s\u001b[0m eta \u001b[36m0:00:00\u001b[0m\n",
            "\u001b[2K     \u001b[90m━━━━━━━━━━━━━━━━━━━━━━━━━━━━━━━━━━━━━━━\u001b[0m \u001b[32m321.0/321.0 kB\u001b[0m \u001b[31m8.0 MB/s\u001b[0m eta \u001b[36m0:00:00\u001b[0m\n",
            "\u001b[2K     \u001b[90m━━━━━━━━━━━━━━━━━━━━━━━━━━━━━━━━━━━━━━━━\u001b[0m \u001b[32m2.0/2.0 MB\u001b[0m \u001b[31m51.6 MB/s\u001b[0m eta \u001b[36m0:00:00\u001b[0m\n",
            "\u001b[?25h\u001b[33m  WARNING: The script tb-gcp-uploader is installed in '/root/.local/bin' which is not on PATH.\n",
            "  Consider adding this directory to PATH or, if you prefer to suppress this warning, use --no-warn-script-location.\u001b[0m\u001b[33m\n",
            "\u001b[2K     \u001b[90m━━━━━━━━━━━━━━━━━━━━━━━━━━━━━━━━━━━━━━━\u001b[0m \u001b[32m519.6/519.6 kB\u001b[0m \u001b[31m8.6 MB/s\u001b[0m eta \u001b[36m0:00:00\u001b[0m\n",
            "\u001b[2K     \u001b[90m━━━━━━━━━━━━━━━━━━━━━━━━━━━━━━━━━━━━━━\u001b[0m \u001b[32m115.3/115.3 kB\u001b[0m \u001b[31m10.5 MB/s\u001b[0m eta \u001b[36m0:00:00\u001b[0m\n",
            "\u001b[2K     \u001b[90m━━━━━━━━━━━━━━━━━━━━━━━━━━━━━━━━━━━━━━\u001b[0m \u001b[32m194.1/194.1 kB\u001b[0m \u001b[31m17.8 MB/s\u001b[0m eta \u001b[36m0:00:00\u001b[0m\n",
            "\u001b[2K     \u001b[90m━━━━━━━━━━━━━━━━━━━━━━━━━━━━━━━━━━━━━━━\u001b[0m \u001b[32m134.8/134.8 kB\u001b[0m \u001b[31m9.8 MB/s\u001b[0m eta \u001b[36m0:00:00\u001b[0m\n",
            "\u001b[2K     \u001b[90m━━━━━━━━━━━━━━━━━━━━━━━━━━━━━━━━━━━━━━\u001b[0m \u001b[32m295.0/295.0 kB\u001b[0m \u001b[31m27.8 MB/s\u001b[0m eta \u001b[36m0:00:00\u001b[0m\n",
            "\u001b[?25h\u001b[33m  WARNING: The script huggingface-cli is installed in '/root/.local/bin' which is not on PATH.\n",
            "  Consider adding this directory to PATH or, if you prefer to suppress this warning, use --no-warn-script-location.\u001b[0m\u001b[33m\n",
            "\u001b[0m\u001b[33m  WARNING: The script datasets-cli is installed in '/root/.local/bin' which is not on PATH.\n",
            "  Consider adding this directory to PATH or, if you prefer to suppress this warning, use --no-warn-script-location.\u001b[0m\u001b[33m\n",
            "\u001b[2K     \u001b[90m━━━━━━━━━━━━━━━━━━━━━━━━━━━━━━━━━━━━━━━\u001b[0m \u001b[32m276.3/276.3 kB\u001b[0m \u001b[31m4.9 MB/s\u001b[0m eta \u001b[36m0:00:00\u001b[0m\n",
            "\u001b[2K     \u001b[90m━━━━━━━━━━━━━━━━━━━━━━━━━━━━━━━━━━━━━━━━\u001b[0m \u001b[32m17.6/17.6 MB\u001b[0m \u001b[31m63.6 MB/s\u001b[0m eta \u001b[36m0:00:00\u001b[0m\n",
            "\u001b[?25h"
          ]
        }
      ],
      "source": [
        "\n",
        "! pip install --user --quiet google-cloud-aiplatform==1.25.0\n",
        "\n",
        "# Install pandas\n",
        "! pip install --user --quiet pandas\n",
        "\n",
        "# Install HuggingFace Datasets\n",
        "! pip install --user --quiet datasets\n",
        "\n",
        "# Install Python client for Google Search API\n",
        "! pip install --user --quiet google-api-python-client\n",
        "\n",
        "# PDF loader\n",
        "! pip install --user --quiet pypdf\n",
        "\n",
        "# Install similarity search library\n",
        "# TO-DO: Replace with vertex AI Matching Engine\n",
        "! pip install --user --quiet faiss-cpu"
      ]
    },
    {
      "cell_type": "markdown",
      "id": "e48a6664-b606-4f8e-8f96-4568f36c13c4",
      "metadata": {
        "id": "e48a6664-b606-4f8e-8f96-4568f36c13c4"
      },
      "source": [
        "# Install LangChain & SQL Alchemy\n",
        "### LangChain is an open source frameowrk that allows AI developers to combine LLM like PaLM with external sources of computation and data\n",
        "### SQLAlchemy is an open-source SQL toolkit and object-relational mapper for the Python programming language released under the MIT License.\n",
        "### Gradio is an open-source Python library that is used to build machine learning and data science demos and web applications."
      ]
    },
    {
      "cell_type": "code",
      "source": [
        "# Install Vertex AI LLM SDK, langchain and dependencies\n",
        "! pip install --quiet google-cloud-aiplatform langchain==0.0.229 chromadb==0.3.26 pydantic==1.10.8 typing-inspect==0.8.0 typing_extensions==4.5.0 pandas==1.5.3 datasets google-api-python-client pypdf faiss-cpu transformers config --upgrade --user"
      ],
      "metadata": {
        "id": "oRXqjNnI6fcN",
        "outputId": "8c002eb0-15cd-4281-9040-46b6db5a9b2a",
        "colab": {
          "base_uri": "https://localhost:8080/"
        }
      },
      "id": "oRXqjNnI6fcN",
      "execution_count": null,
      "outputs": [
        {
          "output_type": "stream",
          "name": "stdout",
          "text": [
            "\u001b[33m  WARNING: The script tb-gcp-uploader is installed in '/root/.local/bin' which is not on PATH.\n",
            "  Consider adding this directory to PATH or, if you prefer to suppress this warning, use --no-warn-script-location.\u001b[0m\u001b[33m\n",
            "\u001b[0m"
          ]
        }
      ]
    },
    {
      "cell_type": "code",
      "execution_count": null,
      "id": "d894a722-65fa-4b9c-8200-003d2009e166",
      "metadata": {
        "id": "d894a722-65fa-4b9c-8200-003d2009e166"
      },
      "outputs": [],
      "source": [
        "\n",
        "# Below libraries are required to build a SQL engine for BigQuery\n",
        "!pip install --user SQLAlchemy==1.4.49 --quiet\n",
        "!pip install --user sqlalchemy-bigquery==1.6.1 --quiet"
      ]
    },
    {
      "cell_type": "markdown",
      "id": "B-mPnZJdiwkg",
      "metadata": {
        "id": "B-mPnZJdiwkg"
      },
      "source": [
        "---\n",
        "\n",
        "#### ⚠️ Do not forget to \"RESTART RUNTIME\"\n",
        "\n",
        "---"
      ]
    },
    {
      "cell_type": "code",
      "source": [
        "from google.colab import auth as google_auth\n",
        "google_auth.authenticate_user()"
      ],
      "metadata": {
        "id": "yVG_3CNz7tK9"
      },
      "id": "yVG_3CNz7tK9",
      "execution_count": null,
      "outputs": []
    },
    {
      "cell_type": "code",
      "execution_count": null,
      "id": "Tq8CMcvBiywu",
      "metadata": {
        "id": "Tq8CMcvBiywu"
      },
      "outputs": [],
      "source": [
        "PROJECT_ID = \"wizeline-nd-solutions-c598e982\"  # @param {type:\"string\"} ## Update this with your project id\n",
        "LOCATION = \"us-central1\" # @param {type:\"string\"} ## Continue with us-central1"
      ]
    },
    {
      "cell_type": "markdown",
      "id": "e406ffe8-c404-4464-b1fb-35e7beecf83c",
      "metadata": {
        "id": "e406ffe8-c404-4464-b1fb-35e7beecf83c"
      },
      "source": [
        "---\n",
        "\n",
        "#### ⚠️ Do not forget to update the PROJECT_ID to your project\n",
        "\n",
        "---"
      ]
    },
    {
      "cell_type": "code",
      "execution_count": null,
      "id": "a91fdaa3-bc11-427c-91df-771acdaaa535",
      "metadata": {
        "colab": {
          "base_uri": "https://localhost:8080/"
        },
        "id": "a91fdaa3-bc11-427c-91df-771acdaaa535",
        "outputId": "286eafa8-fea0-4f26-c164-dbecfa1a413c"
      },
      "outputs": [
        {
          "output_type": "stream",
          "name": "stdout",
          "text": [
            "LangChain version: 0.0.229\n",
            "Vertex AI SDK version: 1.33.1\n"
          ]
        }
      ],
      "source": [
        "import langchain\n",
        "print(f\"LangChain version: {langchain.__version__}\")\n",
        "\n",
        "from google.cloud import aiplatform\n",
        "print(f\"Vertex AI SDK version: {aiplatform.__version__}\")\n",
        "\n",
        "# Initialize Vertex AI SDK\n",
        "import vertexai\n",
        "vertexai.init(project=PROJECT_ID, location=LOCATION)"
      ]
    },
    {
      "cell_type": "markdown",
      "id": "6596d4d4-0501-4abf-aa56-683654c2985e",
      "metadata": {
        "id": "6596d4d4-0501-4abf-aa56-683654c2985e"
      },
      "source": [
        "# Vertex AI LLM wrapper for using with Langchain\n"
      ]
    },
    {
      "cell_type": "code",
      "execution_count": null,
      "id": "CZllkRptjWDN",
      "metadata": {
        "id": "CZllkRptjWDN"
      },
      "outputs": [],
      "source": [
        "\n",
        "\n",
        "import time\n",
        "from typing import Any, Mapping, List, Dict, Optional, Tuple, Union\n",
        "from dataclasses import dataclass, field\n",
        "\n",
        "from pydantic import BaseModel, Extra, root_validator\n",
        "\n",
        "from langchain.llms.base import LLM\n",
        "from langchain.embeddings.base import Embeddings\n",
        "from langchain.chat_models.base import BaseChatModel\n",
        "from langchain.llms.utils import enforce_stop_tokens\n",
        "from langchain.schema import Generation, LLMResult\n",
        "from langchain.schema import AIMessage, BaseMessage, ChatGeneration, ChatResult, HumanMessage, SystemMessage\n",
        "\n",
        "from vertexai.preview.language_models import TextGenerationResponse, ChatSession\n",
        "\n",
        "\n",
        "def rate_limit(max_per_minute):\n",
        "  period = 60 / max_per_minute\n",
        "  print('Waiting')\n",
        "  while True:\n",
        "    before = time.time()\n",
        "    yield\n",
        "    after = time.time()\n",
        "    elapsed = after - before\n",
        "    sleep_time = max(0, period - elapsed)\n",
        "    if sleep_time > 0:\n",
        "      print('.', end='')\n",
        "      time.sleep(sleep_time)\n",
        "\n",
        "\n",
        "class _VertexCommon(BaseModel):\n",
        "    \"\"\"Wrapper around Vertex AI large language models.\n",
        "\n",
        "    To use, you should have the\n",
        "    ``google.cloud.aiplatform.private_preview.language_models`` python package\n",
        "    installed.\n",
        "    \"\"\"\n",
        "    client: Any = None #: :meta private:\n",
        "    model_name: str = \"text-bison@001\"\n",
        "    \"\"\"Model name to use.\"\"\"\n",
        "\n",
        "    temperature: float = 0.2\n",
        "    \"\"\"What sampling temperature to use.\"\"\"\n",
        "\n",
        "    top_p: int = 0.8\n",
        "    \"\"\"Total probability mass of tokens to consider at each step.\"\"\"\n",
        "\n",
        "    top_k: int = 40\n",
        "    \"\"\"The number of highest probability tokens to keep for top-k filtering.\"\"\"\n",
        "\n",
        "    max_output_tokens: int = 200\n",
        "    \"\"\"The maximum number of tokens to generate in the completion.\"\"\"\n",
        "\n",
        "    @property\n",
        "    def _default_params(self) -> Mapping[str, Any]:\n",
        "        \"\"\"Get the default parameters for calling Vertex AI API.\"\"\"\n",
        "        return {\n",
        "            \"temperature\": self.temperature,\n",
        "            \"top_p\": self.top_p,\n",
        "            \"top_k\": self.top_k,\n",
        "            \"max_output_tokens\": self.max_output_tokens\n",
        "        }\n",
        "\n",
        "    def _predict(self, prompt: str, stop: Optional[List[str]]) -> str:\n",
        "        res = self.client.predict(prompt, **self._default_params)\n",
        "        return self._enforce_stop_words(res.text, stop)\n",
        "\n",
        "    def _enforce_stop_words(self, text: str, stop: Optional[List[str]]) -> str:\n",
        "        if stop:\n",
        "            return enforce_stop_tokens(text, stop)\n",
        "        return text\n",
        "\n",
        "    @property\n",
        "    def _llm_type(self) -> str:\n",
        "        \"\"\"Return type of llm.\"\"\"\n",
        "        return \"vertex_ai\"\n",
        "\n",
        "class VertexLLM(_VertexCommon, LLM):\n",
        "    model_name: str = \"text-bison@001\"\n",
        "\n",
        "    @root_validator()\n",
        "    def validate_environment(cls, values: Dict) -> Dict:\n",
        "        \"\"\"Validate that the python package exists in environment.\"\"\"\n",
        "        try:\n",
        "            from vertexai.preview.language_models import TextGenerationModel\n",
        "        except ImportError:\n",
        "            raise ValueError(\n",
        "                \"Could not import Vertex AI LLM python package. \"\n",
        "            )\n",
        "\n",
        "        try:\n",
        "            values[\"client\"] = TextGenerationModel.from_pretrained(values[\"model_name\"])\n",
        "        except AttributeError:\n",
        "            raise ValueError(\n",
        "                \"Could not set Vertex Text Model client.\"\n",
        "            )\n",
        "\n",
        "        return values\n",
        "\n",
        "    def _call(self, prompt: str, stop: Optional[List[str]] = None) -> str:\n",
        "        \"\"\"Call out to Vertex AI's create endpoint.\n",
        "\n",
        "        Args:\n",
        "            prompt: The prompt to pass into the model.\n",
        "\n",
        "        Returns:\n",
        "            The string generated by the model.\n",
        "        \"\"\"\n",
        "        return self._predict(prompt, stop)\n",
        "\n",
        "\n",
        "@dataclass\n",
        "class _MessagePair:\n",
        "    \"\"\"InputOutputTextPair represents a pair of input and output texts.\"\"\"\n",
        "\n",
        "    question: HumanMessage\n",
        "    answer: AIMessage\n",
        "\n",
        "\n",
        "@dataclass\n",
        "class _ChatHistory:\n",
        "    \"\"\"InputOutputTextPair represents a pair of input and output texts.\"\"\"\n",
        "\n",
        "    history: List[_MessagePair] = field(default_factory=list)\n",
        "    system_message: Optional[SystemMessage] = None\n",
        "\n",
        "\n",
        "def _parse_chat_history(history: List[BaseMessage]) -> _ChatHistory:\n",
        "    \"\"\"Parses a sequence of messages into history.\n",
        "\n",
        "    A sequency should be either (SystemMessage, HumanMessage, AIMessage,\n",
        "    HumanMessage, AIMessage, ...) or (HumanMessage, AIMessage, HumanMessage,\n",
        "    AIMessage, ...).\n",
        "    \"\"\"\n",
        "    if not history:\n",
        "        return _ChatHistory()\n",
        "    first_message = history[0]\n",
        "    system_message = first_message if isinstance(first_message, SystemMessage) else None\n",
        "    chat_history = _ChatHistory(system_message=system_message)\n",
        "    messages_left = history[1:] if system_message else history\n",
        "    # if len(messages_left) % 2 != 0:\n",
        "    #     raise ValueError(\n",
        "    #         f\"Amount of messages in history should be even, got {len(messages_left)}!\"\n",
        "    #     )\n",
        "    for question, answer in zip(messages_left[::2], messages_left[1::2]):\n",
        "        if not isinstance(question, HumanMessage) or not isinstance(answer, AIMessage):\n",
        "            raise ValueError(\n",
        "                \"A human message should follow a bot one, \"\n",
        "                f\"got {question.type}, {answer.type}.\"\n",
        "            )\n",
        "        chat_history.history.append(_MessagePair(question=question, answer=answer))\n",
        "    return chat_history\n",
        "\n",
        "\n",
        "class _VertexChatCommon(_VertexCommon):\n",
        "    \"\"\"Wrapper around Vertex AI Chat large language models.\n",
        "\n",
        "    To use, you should have the\n",
        "    ``vertexai.preview.language_models`` python package\n",
        "    installed.\n",
        "    \"\"\"\n",
        "    model_name: str = \"chat-bison@001\"\n",
        "    \"\"\"Model name to use.\"\"\"\n",
        "\n",
        "    @root_validator()\n",
        "    def validate_environment(cls, values: Dict) -> Dict:\n",
        "        \"\"\"Validate that the python package exists in environment.\"\"\"\n",
        "        try:\n",
        "            from vertexai.preview.language_models import ChatModel\n",
        "        except ImportError:\n",
        "            raise ValueError(\n",
        "                \"Could not import Vertex AI LLM python package. \"\n",
        "            )\n",
        "\n",
        "        try:\n",
        "            values[\"client\"] = ChatModel.from_pretrained(values[\"model_name\"])\n",
        "        except AttributeError:\n",
        "            raise ValueError(\n",
        "                \"Could not set Vertex Text Model client.\"\n",
        "            )\n",
        "\n",
        "        return values\n",
        "\n",
        "    def _response_to_chat_results(\n",
        "        self, response: TextGenerationResponse, stop: Optional[List[str]]\n",
        "    ) -> ChatResult:\n",
        "        text = self._enforce_stop_words(response.text, stop)\n",
        "        return ChatResult(generations=[ChatGeneration(message=AIMessage(content=text))])\n",
        "\n",
        "\n",
        "class VertexChat(_VertexChatCommon, BaseChatModel):\n",
        "    \"\"\"Wrapper around Vertex AI large language models.\n",
        "\n",
        "    To use, you should have the\n",
        "    ``vertexai.preview.language_models`` python package\n",
        "    installed.\n",
        "    \"\"\"\n",
        "\n",
        "    model_name: str = \"chat-bison@001\"\n",
        "    chat: Any = None  #: :meta private:\n",
        "\n",
        "    def send_message(\n",
        "        self, message: Union[HumanMessage, str], stop: Optional[List[str]] = None\n",
        "    ) -> ChatResult:\n",
        "        text = message.content if isinstance(message, BaseMessage) else message\n",
        "        response = self.chat.send_message(text)\n",
        "        text = self._enforce_stop_words(response.text, stop)\n",
        "        return ChatResult(generations=[ChatGeneration(message=AIMessage(content=text))])\n",
        "\n",
        "    def _generate(\n",
        "        self, messages: List[BaseMessage], stop: Optional[List[str]] = None\n",
        "    ) -> ChatResult:\n",
        "        if not messages:\n",
        "            raise ValueError(\n",
        "                \"You should provide at least one message to start the chat!\"\n",
        "            )\n",
        "        question = messages[-1]\n",
        "        if not isinstance(question, HumanMessage):\n",
        "            raise ValueError(\n",
        "                f\"Last message in the list should be from human, got {question.type}.\"\n",
        "            )\n",
        "        self.start_chat(messages[:-1])\n",
        "        return self.send_message(question)\n",
        "\n",
        "    def start_chat(self, messages: List[BaseMessage]) -> None:\n",
        "        \"\"\"Starts a chat.\"\"\"\n",
        "        history = _parse_chat_history(messages)\n",
        "        context = history.system_message.content if history.system_message else None\n",
        "        self.chat = self.client.start_chat(context=context, **self._default_params)\n",
        "        for pair in history.history:\n",
        "            self.chat._history.append((pair.question.content, pair.answer.content))\n",
        "\n",
        "    def clear_chat(self) -> None:\n",
        "        self.chat = None\n",
        "\n",
        "    @property\n",
        "    def history(self) -> List[BaseMessage]:\n",
        "        \"\"\"Chat history.\"\"\"\n",
        "        history: List[BaseMessage] = []\n",
        "        if self.chat:\n",
        "            for question, answer in self.chat._history:\n",
        "                history.append(HumanMessage(content=question))\n",
        "                history.append(AIMessage(content=answer))\n",
        "        return history\n",
        "\n",
        "    async def _agenerate(\n",
        "        self, messages: List[BaseMessage], stop: Optional[List[str]] = None\n",
        "    ) -> ChatResult:\n",
        "        raise NotImplementedError(\n",
        "            \"\"\"Vertex AI doesn't support async requests at the moment.\"\"\"\n",
        "        )\n",
        "\n",
        "class VertexMultiTurnChat(_VertexChatCommon, BaseChatModel):\n",
        "    \"\"\"Wrapper around Vertex AI large language models.\"\"\"\n",
        "\n",
        "    model_name: str = \"chat-bison@001\"\n",
        "    chat: Optional[ChatSession] = None\n",
        "\n",
        "    def clear_chat(self) -> None:\n",
        "        self.chat = None\n",
        "\n",
        "    def start_chat(self, message: Optional[SystemMessage] = None) -> None:\n",
        "        if self.chat:\n",
        "            raise ValueError(\"Chat has already been started. Please, clear it first.\")\n",
        "        if message and not isinstance(message, SystemMessage):\n",
        "            raise ValueError(\"Context should be a system message\")\n",
        "        context = message.content if message else None\n",
        "        self.chat = self.client.start_chat(context=context, **self._default_params)\n",
        "\n",
        "    @property\n",
        "    def history(self) -> List[Tuple[str]]:\n",
        "        \"\"\"Chat history.\"\"\"\n",
        "        if self.chat:\n",
        "            return self.chat._history\n",
        "        return []\n",
        "\n",
        "    def _generate(\n",
        "        self, messages: List[BaseMessage], stop: Optional[List[str]] = None\n",
        "    ) -> ChatResult:\n",
        "        if len(messages) != 1:\n",
        "            raise ValueError(\n",
        "                \"You should send exactly one message to the chat each turn.\"\n",
        "            )\n",
        "        if not self.chat:\n",
        "            raise ValueError(\"You should start_chat first!\")\n",
        "        response = self.chat.send_message(messages[0].content)\n",
        "        return self._response_to_chat_results(response, stop=stop)\n",
        "\n",
        "    async def _agenerate(\n",
        "        self, messages: List[BaseMessage], stop: Optional[List[str]] = None\n",
        "    ) -> ChatResult:\n",
        "        raise NotImplementedError(\n",
        "            \"\"\"Vertex AI doesn't support async requests at the moment.\"\"\"\n",
        "        )\n",
        "\n",
        "class VertexEmbeddings(Embeddings, BaseModel):\n",
        "    \"\"\"Wrapper around Vertex AI large language models embeddings API.\n",
        "\n",
        "    To use, you should have the\n",
        "    ``google.cloud.aiplatform.private_preview.language_models`` python package\n",
        "    installed.\n",
        "    \"\"\"\n",
        "    model_name: str = \"textembedding-gecko@001\"\n",
        "    \"\"\"Model name to use.\"\"\"\n",
        "\n",
        "    model: Any\n",
        "    requests_per_minute: int = 15\n",
        "\n",
        "\n",
        "    @root_validator()\n",
        "    def validate_environment(cls, values: Dict) -> Dict:\n",
        "        \"\"\"Validate that the python package exists in environment.\"\"\"\n",
        "        try:\n",
        "            from vertexai.preview.language_models import TextEmbeddingModel\n",
        "\n",
        "        except ImportError:\n",
        "            raise ValueError(\n",
        "                \"Could not import Vertex AI LLM python package. \"\n",
        "            )\n",
        "\n",
        "        try:\n",
        "            values[\"model\"] = TextEmbeddingModel\n",
        "\n",
        "        except AttributeError:\n",
        "            raise ValueError(\n",
        "                \"Could not set Vertex Text Model client.\"\n",
        "            )\n",
        "\n",
        "        return values\n",
        "\n",
        "    class Config:\n",
        "        \"\"\"Configuration for this pydantic object.\"\"\"\n",
        "\n",
        "        extra = Extra.forbid\n",
        "\n",
        "    def embed_documents(self, texts: List[str]) -> List[List[float]]:\n",
        "      \"\"\"Call Vertex LLM embedding endpoint for embedding docs\n",
        "      Args:\n",
        "          texts: The list of texts to embed.\n",
        "      Returns:\n",
        "          List of embeddings, one for each text.\n",
        "      \"\"\"\n",
        "      self.model = self.model.from_pretrained(self.model_name)\n",
        "\n",
        "      limiter = rate_limit(self.requests_per_minute)\n",
        "      results = []\n",
        "      docs = list(texts)\n",
        "\n",
        "      while docs:\n",
        "        # Working in batches of 2 because the API apparently won't let\n",
        "        # us send more than 2 documents per request to get embeddings.\n",
        "        head, docs = docs[:2], docs[2:]\n",
        "        # print(f'Sending embedding request for: {head!r}')\n",
        "        chunk = self.model.get_embeddings(head)\n",
        "        results.extend(chunk)\n",
        "        next(limiter)\n",
        "\n",
        "      return [r.values for r in results]\n",
        "\n",
        "    def embed_query(self, text: str) -> List[float]:\n",
        "      \"\"\"Call Vertex LLM embedding endpoint for embedding query text.\n",
        "      Args:\n",
        "        text: The text to embed.\n",
        "      Returns:\n",
        "        Embedding for the text.\n",
        "      \"\"\"\n",
        "      single_result = self.embed_documents([text])\n",
        "      return single_result[0]"
      ]
    },
    {
      "cell_type": "markdown",
      "id": "1c344bf2-d36b-4fe8-8431-afaecc01d5aa",
      "metadata": {
        "id": "1c344bf2-d36b-4fe8-8431-afaecc01d5aa"
      },
      "source": [
        "# Create your input DataSet"
      ]
    },
    {
      "cell_type": "code",
      "execution_count": null,
      "id": "eVpPcvsrkzCk",
      "metadata": {
        "id": "eVpPcvsrkzCk"
      },
      "outputs": [],
      "source": [
        "REQUESTS_PER_MINUTE = 100\n",
        "\n",
        "llm = VertexLLM(\n",
        "    model_name='text-bison@001',\n",
        "    max_output_tokens=1024,\n",
        "    temperature=0.1,\n",
        "    top_p=0.8,\n",
        "    top_k=40,\n",
        "    verbose=True,\n",
        ")\n",
        "\n",
        "chat = VertexChat()\n",
        "\n",
        "mchat = VertexMultiTurnChat(max_output_tokens=1024)\n",
        "\n",
        "embedding = VertexEmbeddings(requests_per_minute=REQUESTS_PER_MINUTE)"
      ]
    },
    {
      "cell_type": "code",
      "execution_count": null,
      "id": "112822f8-04b9-4d66-8272-ab86f08fca44",
      "metadata": {
        "id": "112822f8-04b9-4d66-8272-ab86f08fca44"
      },
      "outputs": [],
      "source": [
        "from google.cloud import bigquery\n",
        "from google.cloud.bigquery import Client\n",
        "client = Client(project=PROJECT_ID)\n",
        "dataset_id = \"iowa_liquor_sales\""
      ]
    },
    {
      "cell_type": "code",
      "execution_count": null,
      "id": "2260b9dd-6fc1-4fa0-9f67-79682ecf5546",
      "metadata": {
        "colab": {
          "base_uri": "https://localhost:8080/"
        },
        "id": "2260b9dd-6fc1-4fa0-9f67-79682ecf5546",
        "outputId": "6e5c23bf-cd68-4025-ea0d-8dc75905f0c2"
      },
      "outputs": [
        {
          "output_type": "stream",
          "name": "stdout",
          "text": [
            "<google.cloud.bigquery.table._EmptyRowIterator object at 0x7d73bb09c9d0>\n"
          ]
        }
      ],
      "source": [
        "query = \"\"\"\n",
        "CREATE SCHEMA `{PROJECT_ID}.{dataset_id}`\n",
        "OPTIONS(\n",
        "  location=\"us\"\n",
        "  )\n",
        "\"\"\".format(\n",
        "    PROJECT_ID=PROJECT_ID, dataset_id=dataset_id\n",
        ")\n",
        "query_job = client.query(query)\n",
        "print(query_job.result())"
      ]
    },
    {
      "cell_type": "code",
      "execution_count": null,
      "id": "8fe18f28-5c86-409a-820c-9453b5739eae",
      "metadata": {
        "colab": {
          "base_uri": "https://localhost:8080/"
        },
        "id": "8fe18f28-5c86-409a-820c-9453b5739eae",
        "outputId": "9bea37dd-0489-485a-8cb8-f7a6fa885b57"
      },
      "outputs": [
        {
          "output_type": "stream",
          "name": "stdout",
          "text": [
            "<google.cloud.bigquery.table._EmptyRowIterator object at 0x7d74bee5d2a0>\n"
          ]
        }
      ],
      "source": [
        "query = \"\"\"\n",
        "create or replace table `{PROJECT_ID}.{dataset_id}.sales`\n",
        "as\n",
        "select invoice_and_item_number,\n",
        "date,\n",
        "store_number,\n",
        "store_name,\n",
        "address,\n",
        "city,\n",
        "zip_code,\n",
        "county_number,\n",
        "county,\n",
        "category,\n",
        "category_name,\n",
        "vendor_number,\n",
        "vendor_name,\n",
        "item_number,\n",
        "item_description,\n",
        "pack,\n",
        "bottle_volume_ml,\n",
        "state_bottle_cost,\n",
        "state_bottle_retail,\n",
        "bottles_sold,\n",
        "sale_dollars,\n",
        "volume_sold_liters,\n",
        "volume_sold_gallons\n",
        "from `bigquery-public-data.iowa_liquor_sales.sales`\n",
        "\"\"\".format(\n",
        "    PROJECT_ID=PROJECT_ID, dataset_id=dataset_id\n",
        ")\n",
        "query_job = client.query(query)\n",
        "print(query_job.result())"
      ]
    },
    {
      "cell_type": "code",
      "execution_count": null,
      "id": "9e6882df-3185-4484-841b-d4fcf1bd3529",
      "metadata": {
        "id": "9e6882df-3185-4484-841b-d4fcf1bd3529"
      },
      "outputs": [],
      "source": [
        "# @title Specify Project details and location of the BQ table\n",
        "\n",
        "project_id = PROJECT_ID  # @param {type:\"string\"}\n",
        "location = LOCATION  # @param {type:\"string\"}\n",
        "dataset_id = 'iowa_liquor_sales' # @param {type:\"string\"}\n",
        "table_name = 'sales' # @param {type:\"string\"}\n"
      ]
    },
    {
      "cell_type": "code",
      "execution_count": null,
      "id": "97cccf79-dc0d-4df6-a1c5-0f19c042dc14",
      "metadata": {
        "id": "97cccf79-dc0d-4df6-a1c5-0f19c042dc14"
      },
      "outputs": [],
      "source": [
        "from sqlalchemy import *\n",
        "from sqlalchemy.engine import create_engine\n",
        "from sqlalchemy.schema import *\n",
        "import pandas as pd"
      ]
    },
    {
      "cell_type": "code",
      "execution_count": null,
      "id": "2a70ec4f-abb2-4abb-b2cc-eb3ffa70476e",
      "metadata": {
        "id": "2a70ec4f-abb2-4abb-b2cc-eb3ffa70476e"
      },
      "outputs": [],
      "source": [
        "table_uri = f\"bigquery://{project_id}/{dataset_id}\"\n",
        "engine = create_engine(f\"bigquery://{project_id}/{dataset_id}\")"
      ]
    },
    {
      "cell_type": "code",
      "execution_count": null,
      "id": "b4d0daf0-e982-4e0f-89f3-b72416ea74a2",
      "metadata": {
        "colab": {
          "base_uri": "https://localhost:8080/"
        },
        "id": "b4d0daf0-e982-4e0f-89f3-b72416ea74a2",
        "outputId": "4b341534-d8e1-48f9-da55-a48e0c741b72"
      },
      "outputs": [
        {
          "output_type": "stream",
          "name": "stderr",
          "text": [
            "<ipython-input-17-c2f5a6a300c8>:2: RemovedIn20Warning: Deprecated API features detected! These feature(s) are not compatible with SQLAlchemy 2.0. To prevent incompatible upgrades prior to updating applications, ensure requirements files are pinned to \"sqlalchemy<2.0\". Set environment variable SQLALCHEMY_WARN_20=1 to show all deprecation warnings.  Set environment variable SQLALCHEMY_SILENCE_UBER_WARNING=1 to silence this message. (Background on SQLAlchemy 2.0 at: https://sqlalche.me/e/b8d9)\n",
            "  engine.execute(query).first()\n"
          ]
        },
        {
          "output_type": "execute_result",
          "data": {
            "text/plain": [
              "('INV-52885500027', datetime.date(2022, 11, 9), '4463', \"CASEY'S GENERAL STORE #3031 / GARNER\", '145 US HWY 18 W', 'GARNER', '50438', None, 'HANCOCK', '1062400.0', 'SPICED RUM', '259', 'HEAVEN HILL BRANDS', '43025', 'ADMIRAL NELSON SPICED PET', 12, 750, 6.0, 9.0, 10, 90.0, 7.5, 1.98)"
            ]
          },
          "metadata": {},
          "execution_count": 17
        }
      ],
      "source": [
        "query=f\"\"\"SELECT * FROM `{project_id}.{dataset_id}.{table_name}`\"\"\"\n",
        "engine.execute(query).first()"
      ]
    },
    {
      "cell_type": "code",
      "execution_count": null,
      "id": "05a2edb0-b8e8-4314-8aff-63b47bce1672",
      "metadata": {
        "id": "05a2edb0-b8e8-4314-8aff-63b47bce1672"
      },
      "outputs": [],
      "source": [
        "from langchain import SQLDatabase, SQLDatabaseChain\n",
        "from langchain.prompts.prompt import PromptTemplate\n",
        "\n",
        "def bq_qna(question):\n",
        "  #create SQLDatabase instance from BQ engine\n",
        "  db = SQLDatabase(engine=engine,metadata=MetaData(bind=engine),include_tables=[table_name])\n",
        "  # db = SQLDatabase(engine=engine,metadata=MetaData(bind=engine),include_tables=['bigquery-public-data.iowa_liquor_sales.sales'])\n",
        "\n",
        "  #create SQL DB Chain with the initialized LLM and above SQLDB instance\n",
        "  db_chain = SQLDatabaseChain.from_llm(llm, db, verbose=True, return_intermediate_steps=True)\n",
        "\n",
        "  #Define prompt for BigQuery SQL\n",
        "  _googlesql_prompt = \"\"\"You are a BigQuery SQL expert. Given an input question, first create a syntactically correct BigQuery query to run, then look at the results of the query and return the answer to the input question.\n",
        "  Unless the user specifies in the question a specific number of examples to obtain, query for at most {top_k} results using the LIMIT clause as per BigQuery SQL. You can order the results to return the most informative data in the database.\n",
        "  Never query for all columns from a table. You must query only the columns that are needed to answer the question. Wrap each column name in backticks (`) to denote them as delimited identifiers.\n",
        "  Pay attention to use only the column names you can see in the tables below. Be careful to not query for columns that do not exist. Also, pay attention to which column is in which table.\n",
        "  Use the following format:\n",
        "  Question: \"Question here\"\n",
        "  SQLQuery: \"SQL Query to run\"\n",
        "  SQLResult: \"Result of the SQLQuery\"\n",
        "  Answer: \"Final answer here\"\n",
        "  Only use the following tables:\n",
        "  {table_info}\n",
        "\n",
        "  If someone asks for specific month, use ActivityDate between current month's start date and current month's end date\n",
        "\n",
        "  Question: {input}\"\"\"\n",
        "\n",
        "  BigQuerySQL_PROMPT = PromptTemplate(\n",
        "      input_variables=[\"input\", \"table_info\", \"top_k\"],\n",
        "      template=_googlesql_prompt,\n",
        "  )\n",
        "\n",
        "  #passing question to the prompt template\n",
        "  final_prompt = BigQuerySQL_PROMPT.format(input=question, table_info=table_name, top_k=10000)\n",
        "\n",
        "  #pass final prompt to SQL Chain\n",
        "  output = db_chain(final_prompt)\n",
        "\n",
        "\n",
        "  return output['result'], output['intermediate_steps'][0]\n"
      ]
    },
    {
      "cell_type": "code",
      "execution_count": null,
      "id": "946de585-312b-43d2-9670-e3d6e8498951",
      "metadata": {
        "colab": {
          "base_uri": "https://localhost:8080/"
        },
        "id": "946de585-312b-43d2-9670-e3d6e8498951",
        "outputId": "09a20151-7b53-40fd-cb6b-b59c22520189"
      },
      "outputs": [
        {
          "output_type": "stream",
          "name": "stdout",
          "text": [
            "\n",
            "\n",
            "\u001b[1m> Entering new  chain...\u001b[0m\n",
            "You are a BigQuery SQL expert. Given an input question, first create a syntactically correct BigQuery query to run, then look at the results of the query and return the answer to the input question.\n",
            "  Unless the user specifies in the question a specific number of examples to obtain, query for at most 10000 results using the LIMIT clause as per BigQuery SQL. You can order the results to return the most informative data in the database.\n",
            "  Never query for all columns from a table. You must query only the columns that are needed to answer the question. Wrap each column name in backticks (`) to denote them as delimited identifiers.\n",
            "  Pay attention to use only the column names you can see in the tables below. Be careful to not query for columns that do not exist. Also, pay attention to which column is in which table.\n",
            "  Use the following format:\n",
            "  Question: \"Question here\"\n",
            "  SQLQuery: \"SQL Query to run\"\n",
            "  SQLResult: \"Result of the SQLQuery\"\n",
            "  Answer: \"Final answer here\"\n",
            "  Only use the following tables:\n",
            "  sales\n",
            "\n",
            "  If someone asks for specific month, use ActivityDate between current month's start date and current month's end date\n",
            "\n",
            "  Question: Cuenta el numero de facturas\n",
            "SQLQuery:\u001b[32;1m\u001b[1;3mSELECT count(*) FROM `sales`\u001b[0m\n",
            "SQLResult: \u001b[33;1m\u001b[1;3m[(27280532,)]\u001b[0m\n",
            "Answer:\u001b[32;1m\u001b[1;3m27280532\u001b[0m\n",
            "\u001b[1m> Finished chain.\u001b[0m\n"
          ]
        },
        {
          "output_type": "execute_result",
          "data": {
            "text/plain": [
              "('27280532',\n",
              " {'input': 'You are a BigQuery SQL expert. Given an input question, first create a syntactically correct BigQuery query to run, then look at the results of the query and return the answer to the input question.\\n  Unless the user specifies in the question a specific number of examples to obtain, query for at most 10000 results using the LIMIT clause as per BigQuery SQL. You can order the results to return the most informative data in the database.\\n  Never query for all columns from a table. You must query only the columns that are needed to answer the question. Wrap each column name in backticks (`) to denote them as delimited identifiers.\\n  Pay attention to use only the column names you can see in the tables below. Be careful to not query for columns that do not exist. Also, pay attention to which column is in which table.\\n  Use the following format:\\n  Question: \"Question here\"\\n  SQLQuery: \"SQL Query to run\"\\n  SQLResult: \"Result of the SQLQuery\"\\n  Answer: \"Final answer here\"\\n  Only use the following tables:\\n  sales\\n\\n  If someone asks for specific month, use ActivityDate between current month\\'s start date and current month\\'s end date\\n\\n  Question: Cuenta el numero de facturas\\nSQLQuery:SELECT count(*) FROM `sales`\\nSQLResult: [(27280532,)]\\nAnswer:',\n",
              "  'top_k': '5',\n",
              "  'dialect': 'bigquery',\n",
              "  'table_info': '\\nCREATE TABLE `sales` (\\n\\t`invoice_and_item_number` STRING, \\n\\t`date` DATE, \\n\\t`store_number` STRING, \\n\\t`store_name` STRING, \\n\\t`address` STRING, \\n\\t`city` STRING, \\n\\t`zip_code` STRING, \\n\\t`county_number` STRING, \\n\\t`county` STRING, \\n\\t`category` STRING, \\n\\t`category_name` STRING, \\n\\t`vendor_number` STRING, \\n\\t`vendor_name` STRING, \\n\\t`item_number` STRING, \\n\\t`item_description` STRING, \\n\\t`pack` INT64, \\n\\t`bottle_volume_ml` INT64, \\n\\t`state_bottle_cost` FLOAT64, \\n\\t`state_bottle_retail` FLOAT64, \\n\\t`bottles_sold` INT64, \\n\\t`sale_dollars` FLOAT64, \\n\\t`volume_sold_liters` FLOAT64, \\n\\t`volume_sold_gallons` FLOAT64\\n)\\n\\n/*\\n3 rows from sales table:\\ninvoice_and_item_number\\tdate\\tstore_number\\tstore_name\\taddress\\tcity\\tzip_code\\tcounty_number\\tcounty\\tcategory\\tcategory_name\\tvendor_number\\tvendor_name\\titem_number\\titem_description\\tpack\\tbottle_volume_ml\\tstate_bottle_cost\\tstate_bottle_retail\\tbottles_sold\\tsale_dollars\\tvolume_sold_liters\\tvolume_sold_gallons\\nINV-35063300013\\t2021-03-16\\t3723\\tJ D SPIRITS LIQUOR\\t1023  9TH ST\\tONAWA\\t51040.0\\t67\\tMONONA\\t1082100.0\\tIMPORTED CORDIALS & LIQUEURS\\t192.0\\tMAST-JAGERMEISTER US, INC\\t65259\\tJAGERMEISTER LIQUEUR MINI MEISTERS\\t12\\t20\\t4.93\\t7.4\\t1\\t7.4\\t0.02\\t0.0\\nINV-21050600011\\t2019-08-05\\t4467\\tKUM & GO #438 / MUSCATINE\\t1429 PARK AVE\\tMUSCATINE\\t52761\\t70\\tMUSCATINE\\t1082000.0\\tIMPORTED CORDIALS & LIQUEURS\\t192\\tMAST-JAGERMEISTER US, INC\\t65259\\tJAGERMEISTER MINI MEISTERS\\t12\\t20\\t4.93\\t7.4\\t1\\t7.4\\t0.02\\t0.0\\nINV-21566100053\\t2019-08-28\\t5068\\tTOBACCO SHOP / ARNOLDS PARK\\t612 S HIGHWAY 71\\tARNOLDS PARK\\t51331\\t30\\tDICKINSON\\t1082000.0\\tIMPORTED CORDIALS & LIQUEURS\\t192\\tMAST-JAGERMEISTER US, INC\\t65259\\tJAGERMEISTER MINI MEISTERS\\t12\\t20\\t4.93\\t7.4\\t1\\t7.4\\t0.02\\t0.0\\n*/',\n",
              "  'stop': ['\\nSQLResult:']})"
            ]
          },
          "metadata": {},
          "execution_count": 20
        }
      ],
      "source": [
        "#Testing 1\n",
        "#bq_qna('Count total number of invoices')\n",
        "bq_qna('Cuenta el numero de facturas')\n"
      ]
    },
    {
      "cell_type": "code",
      "execution_count": null,
      "id": "c1bc1a71-1aeb-424f-ae54-1f1c61a4a605",
      "metadata": {
        "colab": {
          "base_uri": "https://localhost:8080/"
        },
        "id": "c1bc1a71-1aeb-424f-ae54-1f1c61a4a605",
        "outputId": "3a692f87-8042-41de-e035-1a86cff721f6"
      },
      "outputs": [
        {
          "output_type": "stream",
          "name": "stdout",
          "text": [
            "\n",
            "\n",
            "\u001b[1m> Entering new  chain...\u001b[0m\n",
            "You are a BigQuery SQL expert. Given an input question, first create a syntactically correct BigQuery query to run, then look at the results of the query and return the answer to the input question.\n",
            "  Unless the user specifies in the question a specific number of examples to obtain, query for at most 10000 results using the LIMIT clause as per BigQuery SQL. You can order the results to return the most informative data in the database.\n",
            "  Never query for all columns from a table. You must query only the columns that are needed to answer the question. Wrap each column name in backticks (`) to denote them as delimited identifiers.\n",
            "  Pay attention to use only the column names you can see in the tables below. Be careful to not query for columns that do not exist. Also, pay attention to which column is in which table.\n",
            "  Use the following format:\n",
            "  Question: \"Question here\"\n",
            "  SQLQuery: \"SQL Query to run\"\n",
            "  SQLResult: \"Result of the SQLQuery\"\n",
            "  Answer: \"Final answer here\"\n",
            "  Only use the following tables:\n",
            "  sales\n",
            "\n",
            "  If someone asks for specific month, use ActivityDate between current month's start date and current month's end date\n",
            "\n",
            "  Question: what were the total sales for County DALLAS in 2022?\n",
            "SQLQuery:\u001b[32;1m\u001b[1;3mSELECT SUM(sale_dollars) AS total_sales FROM `sales` WHERE county = 'DALLAS' AND date BETWEEN '2022-01-01' AND '2022-12-31'\u001b[0m\n",
            "SQLResult: \u001b[33;1m\u001b[1;3m[(12992381.990000002,)]\u001b[0m\n",
            "Answer:\u001b[32;1m\u001b[1;3m12992381.99\u001b[0m\n",
            "\u001b[1m> Finished chain.\u001b[0m\n"
          ]
        },
        {
          "output_type": "execute_result",
          "data": {
            "text/plain": [
              "('12992381.99',\n",
              " {'input': 'You are a BigQuery SQL expert. Given an input question, first create a syntactically correct BigQuery query to run, then look at the results of the query and return the answer to the input question.\\n  Unless the user specifies in the question a specific number of examples to obtain, query for at most 10000 results using the LIMIT clause as per BigQuery SQL. You can order the results to return the most informative data in the database.\\n  Never query for all columns from a table. You must query only the columns that are needed to answer the question. Wrap each column name in backticks (`) to denote them as delimited identifiers.\\n  Pay attention to use only the column names you can see in the tables below. Be careful to not query for columns that do not exist. Also, pay attention to which column is in which table.\\n  Use the following format:\\n  Question: \"Question here\"\\n  SQLQuery: \"SQL Query to run\"\\n  SQLResult: \"Result of the SQLQuery\"\\n  Answer: \"Final answer here\"\\n  Only use the following tables:\\n  sales\\n\\n  If someone asks for specific month, use ActivityDate between current month\\'s start date and current month\\'s end date\\n\\n  Question: what were the total sales for County DALLAS in 2022?\\nSQLQuery:SELECT SUM(sale_dollars) AS total_sales FROM `sales` WHERE county = \\'DALLAS\\' AND date BETWEEN \\'2022-01-01\\' AND \\'2022-12-31\\'\\nSQLResult: [(12992381.990000002,)]\\nAnswer:',\n",
              "  'top_k': '5',\n",
              "  'dialect': 'bigquery',\n",
              "  'table_info': '\\nCREATE TABLE `sales` (\\n\\t`invoice_and_item_number` STRING, \\n\\t`date` DATE, \\n\\t`store_number` STRING, \\n\\t`store_name` STRING, \\n\\t`address` STRING, \\n\\t`city` STRING, \\n\\t`zip_code` STRING, \\n\\t`county_number` STRING, \\n\\t`county` STRING, \\n\\t`category` STRING, \\n\\t`category_name` STRING, \\n\\t`vendor_number` STRING, \\n\\t`vendor_name` STRING, \\n\\t`item_number` STRING, \\n\\t`item_description` STRING, \\n\\t`pack` INT64, \\n\\t`bottle_volume_ml` INT64, \\n\\t`state_bottle_cost` FLOAT64, \\n\\t`state_bottle_retail` FLOAT64, \\n\\t`bottles_sold` INT64, \\n\\t`sale_dollars` FLOAT64, \\n\\t`volume_sold_liters` FLOAT64, \\n\\t`volume_sold_gallons` FLOAT64\\n)\\n\\n/*\\n3 rows from sales table:\\ninvoice_and_item_number\\tdate\\tstore_number\\tstore_name\\taddress\\tcity\\tzip_code\\tcounty_number\\tcounty\\tcategory\\tcategory_name\\tvendor_number\\tvendor_name\\titem_number\\titem_description\\tpack\\tbottle_volume_ml\\tstate_bottle_cost\\tstate_bottle_retail\\tbottles_sold\\tsale_dollars\\tvolume_sold_liters\\tvolume_sold_gallons\\nINV-44704300003\\t2022-02-14\\t5462\\t7STAR LIQUOR & TOBACCO OUTLET\\t502 E AVE NW\\tCEDAR RAPIDS\\t52405.0\\t57\\tLINN\\t1082100.0\\tIMPORTED CORDIALS & LIQUEURS\\t192\\tMAST-JAGERMEISTER US, INC\\t65259\\tJAGERMEISTER LIQUEUR MINI MEISTERS\\t12\\t20\\t4.93\\t7.4\\t1\\t7.4\\t0.02\\t0.0\\nINV-37766100072\\t2021-06-24\\t3443\\tSUPER SAVER IV\\t1141 N BROADWAY\\tCOUNCIL BLUFFS\\t51503.0\\t78\\tPOTTAWATTAMIE\\t1082100.0\\tIMPORTED CORDIALS & LIQUEURS\\t192\\tMAST-JAGERMEISTER US, INC\\t65259\\tJAGERMEISTER LIQUEUR MINI MEISTERS\\t12\\t20\\t4.93\\t7.4\\t1\\t7.4\\t0.02\\t0.0\\nINV-14698400009\\t2018-09-27\\t5034\\tLIQUOR TOBACCO & GROCERIES\\t18 N MONROE AVE\\tMASON CITY\\t50401\\t17\\tCERRO GORDO\\t1082000.0\\tIMPORTED CORDIALS & LIQUEURS\\t192\\tMAST-JAGERMEISTER US, INC\\t65259\\tJAGERMEISTER MINI MEISTERS\\t12\\t20\\t4.93\\t7.4\\t1\\t7.4\\t0.02\\t0.0\\n*/',\n",
              "  'stop': ['\\nSQLResult:']})"
            ]
          },
          "metadata": {},
          "execution_count": 20
        }
      ],
      "source": [
        "`#Testing 2\n",
        "bq_qna('what were the total sales for County DALLAS in 2022?')"
      ]
    },
    {
      "cell_type": "code",
      "execution_count": null,
      "id": "80c5a99e-2469-4ab3-9ffe-d5795ea024b9",
      "metadata": {
        "colab": {
          "base_uri": "https://localhost:8080/"
        },
        "id": "80c5a99e-2469-4ab3-9ffe-d5795ea024b9",
        "outputId": "041bcea5-da26-4277-eeb3-83a4f2042ae6"
      },
      "outputs": [
        {
          "output_type": "stream",
          "name": "stdout",
          "text": [
            "\n",
            "\n",
            "\u001b[1m> Entering new  chain...\u001b[0m\n",
            "You are a BigQuery SQL expert. Given an input question, first create a syntactically correct BigQuery query to run, then look at the results of the query and return the answer to the input question.\n",
            "  Unless the user specifies in the question a specific number of examples to obtain, query for at most 10000 results using the LIMIT clause as per BigQuery SQL. You can order the results to return the most informative data in the database.\n",
            "  Never query for all columns from a table. You must query only the columns that are needed to answer the question. Wrap each column name in backticks (`) to denote them as delimited identifiers.\n",
            "  Pay attention to use only the column names you can see in the tables below. Be careful to not query for columns that do not exist. Also, pay attention to which column is in which table.\n",
            "  Use the following format:\n",
            "  Question: \"Question here\"\n",
            "  SQLQuery: \"SQL Query to run\"\n",
            "  SQLResult: \"Result of the SQLQuery\"\n",
            "  Answer: \"Final answer here\"\n",
            "  Only use the following tables:\n",
            "  sales\n",
            "\n",
            "  If someone asks for specific month, use ActivityDate between current month's start date and current month's end date\n",
            "\n",
            "  Question: Can you identify the stores with the highest number of sales? Please provide the store names along with their zip codes , dollar sales and city names.\n",
            "SQLQuery:\u001b[32;1m\u001b[1;3mSELECT store_name, zip_code, sale_dollars, city FROM sales ORDER BY sale_dollars DESC LIMIT 5\u001b[0m\n",
            "SQLResult: \u001b[33;1m\u001b[1;3m[('HY-VEE FOOD STORE / URBANDALE', '50322', 279557.28, 'URBANDALE'), ('HY-VEE #3 / BDI / DES MOINES', '50320', 254100.0, 'DES MOINES'), ('HY-VEE #3 / BDI / DES MOINES', '50320', 254100.0, 'DES MOINES'), ('HY-VEE #3 / BDI / DES MOINES', '50320.0', 250932.0, 'DES MOINES'), ('HY-VEE #3 / BDI / DES MOINES', '50320.0', 250932.0, 'DES MOINES')]\u001b[0m\n",
            "Answer:\u001b[32;1m\u001b[1;3mThe stores with the highest number of sales are:\n",
            "1. HY-VEE FOOD STORE / URBANDALE (zip code: 50322, sale dollars: 279557.28, city: URBANDALE)\n",
            "2. HY-VEE #3 / BDI / DES MOINES (zip code: 50320, sale dollars: 254100.0, city: DES MOINES)\n",
            "3. HY-VEE #3 / BDI / DES MOINES (zip code: 50320, sale dollars: 254100.0, city: DES MOINES)\n",
            "4. HY-VEE #3 / BDI / DES MOINES (zip code: 50320.0, sale dollars: 250932.0, city: DES MOINES)\n",
            "5. HY-VEE #3 / BDI / DES MOINES (zip code: 50320.0, sale dollars: 250932.0, city: DES MOINES)\u001b[0m\n",
            "\u001b[1m> Finished chain.\u001b[0m\n"
          ]
        },
        {
          "output_type": "execute_result",
          "data": {
            "text/plain": [
              "('The stores with the highest number of sales are:\\n1. HY-VEE FOOD STORE / URBANDALE (zip code: 50322, sale dollars: 279557.28, city: URBANDALE)\\n2. HY-VEE #3 / BDI / DES MOINES (zip code: 50320, sale dollars: 254100.0, city: DES MOINES)\\n3. HY-VEE #3 / BDI / DES MOINES (zip code: 50320, sale dollars: 254100.0, city: DES MOINES)\\n4. HY-VEE #3 / BDI / DES MOINES (zip code: 50320.0, sale dollars: 250932.0, city: DES MOINES)\\n5. HY-VEE #3 / BDI / DES MOINES (zip code: 50320.0, sale dollars: 250932.0, city: DES MOINES)',\n",
              " {'input': 'You are a BigQuery SQL expert. Given an input question, first create a syntactically correct BigQuery query to run, then look at the results of the query and return the answer to the input question.\\n  Unless the user specifies in the question a specific number of examples to obtain, query for at most 10000 results using the LIMIT clause as per BigQuery SQL. You can order the results to return the most informative data in the database.\\n  Never query for all columns from a table. You must query only the columns that are needed to answer the question. Wrap each column name in backticks (`) to denote them as delimited identifiers.\\n  Pay attention to use only the column names you can see in the tables below. Be careful to not query for columns that do not exist. Also, pay attention to which column is in which table.\\n  Use the following format:\\n  Question: \"Question here\"\\n  SQLQuery: \"SQL Query to run\"\\n  SQLResult: \"Result of the SQLQuery\"\\n  Answer: \"Final answer here\"\\n  Only use the following tables:\\n  sales\\n\\n  If someone asks for specific month, use ActivityDate between current month\\'s start date and current month\\'s end date\\n\\n  Question: Can you identify the stores with the highest number of sales? Please provide the store names along with their zip codes , dollar sales and city names.\\nSQLQuery:SELECT store_name, zip_code, sale_dollars, city FROM sales ORDER BY sale_dollars DESC LIMIT 5\\nSQLResult: [(\\'HY-VEE FOOD STORE / URBANDALE\\', \\'50322\\', 279557.28, \\'URBANDALE\\'), (\\'HY-VEE #3 / BDI / DES MOINES\\', \\'50320\\', 254100.0, \\'DES MOINES\\'), (\\'HY-VEE #3 / BDI / DES MOINES\\', \\'50320\\', 254100.0, \\'DES MOINES\\'), (\\'HY-VEE #3 / BDI / DES MOINES\\', \\'50320.0\\', 250932.0, \\'DES MOINES\\'), (\\'HY-VEE #3 / BDI / DES MOINES\\', \\'50320.0\\', 250932.0, \\'DES MOINES\\')]\\nAnswer:',\n",
              "  'top_k': '5',\n",
              "  'dialect': 'bigquery',\n",
              "  'table_info': '\\nCREATE TABLE `sales` (\\n\\t`invoice_and_item_number` STRING, \\n\\t`date` DATE, \\n\\t`store_number` STRING, \\n\\t`store_name` STRING, \\n\\t`address` STRING, \\n\\t`city` STRING, \\n\\t`zip_code` STRING, \\n\\t`county_number` STRING, \\n\\t`county` STRING, \\n\\t`category` STRING, \\n\\t`category_name` STRING, \\n\\t`vendor_number` STRING, \\n\\t`vendor_name` STRING, \\n\\t`item_number` STRING, \\n\\t`item_description` STRING, \\n\\t`pack` INT64, \\n\\t`bottle_volume_ml` INT64, \\n\\t`state_bottle_cost` FLOAT64, \\n\\t`state_bottle_retail` FLOAT64, \\n\\t`bottles_sold` INT64, \\n\\t`sale_dollars` FLOAT64, \\n\\t`volume_sold_liters` FLOAT64, \\n\\t`volume_sold_gallons` FLOAT64\\n)\\n\\n/*\\n3 rows from sales table:\\ninvoice_and_item_number\\tdate\\tstore_number\\tstore_name\\taddress\\tcity\\tzip_code\\tcounty_number\\tcounty\\tcategory\\tcategory_name\\tvendor_number\\tvendor_name\\titem_number\\titem_description\\tpack\\tbottle_volume_ml\\tstate_bottle_cost\\tstate_bottle_retail\\tbottles_sold\\tsale_dollars\\tvolume_sold_liters\\tvolume_sold_gallons\\nINV-44704300003\\t2022-02-14\\t5462\\t7STAR LIQUOR & TOBACCO OUTLET\\t502 E AVE NW\\tCEDAR RAPIDS\\t52405.0\\t57\\tLINN\\t1082100.0\\tIMPORTED CORDIALS & LIQUEURS\\t192\\tMAST-JAGERMEISTER US, INC\\t65259\\tJAGERMEISTER LIQUEUR MINI MEISTERS\\t12\\t20\\t4.93\\t7.4\\t1\\t7.4\\t0.02\\t0.0\\nINV-37766100072\\t2021-06-24\\t3443\\tSUPER SAVER IV\\t1141 N BROADWAY\\tCOUNCIL BLUFFS\\t51503.0\\t78\\tPOTTAWATTAMIE\\t1082100.0\\tIMPORTED CORDIALS & LIQUEURS\\t192\\tMAST-JAGERMEISTER US, INC\\t65259\\tJAGERMEISTER LIQUEUR MINI MEISTERS\\t12\\t20\\t4.93\\t7.4\\t1\\t7.4\\t0.02\\t0.0\\nINV-14698400009\\t2018-09-27\\t5034\\tLIQUOR TOBACCO & GROCERIES\\t18 N MONROE AVE\\tMASON CITY\\t50401\\t17\\tCERRO GORDO\\t1082000.0\\tIMPORTED CORDIALS & LIQUEURS\\t192\\tMAST-JAGERMEISTER US, INC\\t65259\\tJAGERMEISTER MINI MEISTERS\\t12\\t20\\t4.93\\t7.4\\t1\\t7.4\\t0.02\\t0.0\\n*/',\n",
              "  'stop': ['\\nSQLResult:']})"
            ]
          },
          "metadata": {},
          "execution_count": 35
        }
      ],
      "source": [
        "#Testing 3\n",
        "# bq_qna('Identify the top stores along with their zipcode & city name in terms of Number of Sales')\n",
        "bq_qna('Can you identify the stores with the highest number of sales? Please provide the store names along with their zip codes , dollar sales and city names.')\n",
        "\n"
      ]
    },
    {
      "cell_type": "code",
      "execution_count": null,
      "id": "89f636b4-7919-480f-aa4e-962b70fe2b3e",
      "metadata": {
        "colab": {
          "base_uri": "https://localhost:8080/"
        },
        "id": "89f636b4-7919-480f-aa4e-962b70fe2b3e",
        "outputId": "b98cbd57-d44d-495e-ac6b-1fbeb93494a0"
      },
      "outputs": [
        {
          "output_type": "stream",
          "name": "stdout",
          "text": [
            "\n",
            "\n",
            "\u001b[1m> Entering new  chain...\u001b[0m\n",
            "You are a BigQuery SQL expert. Given an input question, first create a syntactically correct BigQuery query to run, then look at the results of the query and return the answer to the input question.\n",
            "  Unless the user specifies in the question a specific number of examples to obtain, query for at most 10000 results using the LIMIT clause as per BigQuery SQL. You can order the results to return the most informative data in the database.\n",
            "  Never query for all columns from a table. You must query only the columns that are needed to answer the question. Wrap each column name in backticks (`) to denote them as delimited identifiers.\n",
            "  Pay attention to use only the column names you can see in the tables below. Be careful to not query for columns that do not exist. Also, pay attention to which column is in which table.\n",
            "  Use the following format:\n",
            "  Question: \"Question here\"\n",
            "  SQLQuery: \"SQL Query to run\"\n",
            "  SQLResult: \"Result of the SQLQuery\"\n",
            "  Answer: \"Final answer here\"\n",
            "  Only use the following tables:\n",
            "  sales\n",
            "\n",
            "  If someone asks for specific month, use ActivityDate between current month's start date and current month's end date\n",
            "\n",
            "  Question: Write an SQL query to extract the month from the date field, calculate the sum of monthly sales for \"GLENLIVET 12YR\" in 2023, and display the results as month name followed by sales for each month in 2023.\n",
            "SQLQuery:\u001b[32;1m\u001b[1;3mSELECT EXTRACT(MONTH FROM date) AS month, SUM(bottles_sold) AS sales FROM sales WHERE item_description = \"GLENLIVET 12YR\" AND date BETWEEN \"2023-01-01\" AND \"2023-12-31\" GROUP BY month ORDER BY month\u001b[0m\n",
            "SQLResult: \u001b[33;1m\u001b[1;3m[(1, 931), (2, 1005), (3, 1137), (4, 981), (5, 1159), (6, 1122)]\u001b[0m\n",
            "Answer:\u001b[32;1m\u001b[1;3mJanuary: 931, February: 1005, March: 1137, April: 981, May: 1159, June: 1122\u001b[0m\n",
            "\u001b[1m> Finished chain.\u001b[0m\n"
          ]
        },
        {
          "output_type": "execute_result",
          "data": {
            "text/plain": [
              "('January: 931, February: 1005, March: 1137, April: 981, May: 1159, June: 1122',\n",
              " {'input': 'You are a BigQuery SQL expert. Given an input question, first create a syntactically correct BigQuery query to run, then look at the results of the query and return the answer to the input question.\\n  Unless the user specifies in the question a specific number of examples to obtain, query for at most 10000 results using the LIMIT clause as per BigQuery SQL. You can order the results to return the most informative data in the database.\\n  Never query for all columns from a table. You must query only the columns that are needed to answer the question. Wrap each column name in backticks (`) to denote them as delimited identifiers.\\n  Pay attention to use only the column names you can see in the tables below. Be careful to not query for columns that do not exist. Also, pay attention to which column is in which table.\\n  Use the following format:\\n  Question: \"Question here\"\\n  SQLQuery: \"SQL Query to run\"\\n  SQLResult: \"Result of the SQLQuery\"\\n  Answer: \"Final answer here\"\\n  Only use the following tables:\\n  sales\\n\\n  If someone asks for specific month, use ActivityDate between current month\\'s start date and current month\\'s end date\\n\\n  Question: Write an SQL query to extract the month from the date field, calculate the sum of monthly sales for \"GLENLIVET 12YR\" in 2023, and display the results as month name followed by sales for each month in 2023.\\nSQLQuery:SELECT EXTRACT(MONTH FROM date) AS month, SUM(bottles_sold) AS sales FROM sales WHERE item_description = \"GLENLIVET 12YR\" AND date BETWEEN \"2023-01-01\" AND \"2023-12-31\" GROUP BY month ORDER BY month\\nSQLResult: [(1, 931), (2, 1005), (3, 1137), (4, 981), (5, 1159), (6, 1122)]\\nAnswer:',\n",
              "  'top_k': '5',\n",
              "  'dialect': 'bigquery',\n",
              "  'table_info': '\\nCREATE TABLE `sales` (\\n\\t`invoice_and_item_number` STRING, \\n\\t`date` DATE, \\n\\t`store_number` STRING, \\n\\t`store_name` STRING, \\n\\t`address` STRING, \\n\\t`city` STRING, \\n\\t`zip_code` STRING, \\n\\t`county_number` STRING, \\n\\t`county` STRING, \\n\\t`category` STRING, \\n\\t`category_name` STRING, \\n\\t`vendor_number` STRING, \\n\\t`vendor_name` STRING, \\n\\t`item_number` STRING, \\n\\t`item_description` STRING, \\n\\t`pack` INT64, \\n\\t`bottle_volume_ml` INT64, \\n\\t`state_bottle_cost` FLOAT64, \\n\\t`state_bottle_retail` FLOAT64, \\n\\t`bottles_sold` INT64, \\n\\t`sale_dollars` FLOAT64, \\n\\t`volume_sold_liters` FLOAT64, \\n\\t`volume_sold_gallons` FLOAT64\\n)\\n\\n/*\\n3 rows from sales table:\\ninvoice_and_item_number\\tdate\\tstore_number\\tstore_name\\taddress\\tcity\\tzip_code\\tcounty_number\\tcounty\\tcategory\\tcategory_name\\tvendor_number\\tvendor_name\\titem_number\\titem_description\\tpack\\tbottle_volume_ml\\tstate_bottle_cost\\tstate_bottle_retail\\tbottles_sold\\tsale_dollars\\tvolume_sold_liters\\tvolume_sold_gallons\\nINV-44704300003\\t2022-02-14\\t5462\\t7STAR LIQUOR & TOBACCO OUTLET\\t502 E AVE NW\\tCEDAR RAPIDS\\t52405.0\\t57\\tLINN\\t1082100.0\\tIMPORTED CORDIALS & LIQUEURS\\t192\\tMAST-JAGERMEISTER US, INC\\t65259\\tJAGERMEISTER LIQUEUR MINI MEISTERS\\t12\\t20\\t4.93\\t7.4\\t1\\t7.4\\t0.02\\t0.0\\nINV-37766100072\\t2021-06-24\\t3443\\tSUPER SAVER IV\\t1141 N BROADWAY\\tCOUNCIL BLUFFS\\t51503.0\\t78\\tPOTTAWATTAMIE\\t1082100.0\\tIMPORTED CORDIALS & LIQUEURS\\t192\\tMAST-JAGERMEISTER US, INC\\t65259\\tJAGERMEISTER LIQUEUR MINI MEISTERS\\t12\\t20\\t4.93\\t7.4\\t1\\t7.4\\t0.02\\t0.0\\nINV-14698400009\\t2018-09-27\\t5034\\tLIQUOR TOBACCO & GROCERIES\\t18 N MONROE AVE\\tMASON CITY\\t50401\\t17\\tCERRO GORDO\\t1082000.0\\tIMPORTED CORDIALS & LIQUEURS\\t192\\tMAST-JAGERMEISTER US, INC\\t65259\\tJAGERMEISTER MINI MEISTERS\\t12\\t20\\t4.93\\t7.4\\t1\\t7.4\\t0.02\\t0.0\\n*/',\n",
              "  'stop': ['\\nSQLResult:']})"
            ]
          },
          "metadata": {},
          "execution_count": 36
        }
      ],
      "source": [
        "#Testing 4\n",
        "# bq_qna('Extract month from the date field and sum the monthly sales every month for \"GLENLIVET 12YR\"  in 2023? Show the results as month name[January]: sales for every month  in 2023')\n",
        "bq_qna('Write an SQL query to extract the month from the date field, calculate the sum of monthly sales for \"GLENLIVET 12YR\" in 2023, and display the results as month name followed by sales for each month in 2023.')\n",
        "\n"
      ]
    },
    {
      "cell_type": "code",
      "execution_count": null,
      "id": "d3850d2b-356d-4f04-b46b-d36f2992efb9",
      "metadata": {
        "id": "d3850d2b-356d-4f04-b46b-d36f2992efb9"
      },
      "outputs": [],
      "source": []
    },
    {
      "cell_type": "markdown",
      "source": [
        "\n",
        "Credits :\n",
        "References from Sagar Kewalramani (skewalramani@), Rajesh Thallam (rthallam@) & Nikhil Rana (nikhilrana@) work\n",
        "\n",
        "\n",
        "**References:**\n",
        "\n",
        "- Adapted from [LangChain Cookbook](https://github.com/gkamradt/langchain-tutorials) from [Greg Kamradt](https://twitter.com/GregKamradt)\n",
        "- [LangChain Conceptual Documentation](https://docs.langchain.com/docs/)\n",
        "- [LangChain Python Documentation](https://python.langchain.com/en/latest/)\n"
      ],
      "metadata": {
        "id": "u3G3GRXl3xy2"
      },
      "id": "u3G3GRXl3xy2"
    }
  ],
  "metadata": {
    "colab": {
      "provenance": [],
      "include_colab_link": true
    },
    "environment": {
      "kernel": "python3",
      "name": "tf2-gpu.2-11.m108",
      "type": "gcloud",
      "uri": "gcr.io/deeplearning-platform-release/tf2-gpu.2-11:m108"
    },
    "kernelspec": {
      "display_name": "Python 3 (ipykernel)",
      "language": "python",
      "name": "python3"
    },
    "language_info": {
      "codemirror_mode": {
        "name": "ipython",
        "version": 3
      },
      "file_extension": ".py",
      "mimetype": "text/x-python",
      "name": "python",
      "nbconvert_exporter": "python",
      "pygments_lexer": "ipython3",
      "version": "3.10.10"
    }
  },
  "nbformat": 4,
  "nbformat_minor": 5
}